{
  "nbformat": 4,
  "nbformat_minor": 0,
  "metadata": {
    "colab": {
      "provenance": []
    },
    "kernelspec": {
      "name": "python3",
      "display_name": "Python 3"
    },
    "language_info": {
      "name": "python"
    }
  },
  "cells": [
    {
      "cell_type": "markdown",
      "source": [
        "# Python_Ejemplos_1"
      ],
      "metadata": {
        "id": "NwF8Sy328izP"
      }
    },
    {
      "cell_type": "markdown",
      "source": [
        "## a_Lists_example"
      ],
      "metadata": {
        "id": "ReBPLOkF8pkQ"
      }
    },
    {
      "cell_type": "markdown",
      "source": [
        "Example of LISTS and methods"
      ],
      "metadata": {
        "id": "MwgfzoX08uO_"
      }
    },
    {
      "cell_type": "code",
      "execution_count": 1,
      "metadata": {
        "colab": {
          "base_uri": "https://localhost:8080/"
        },
        "id": "IqigLIPF8dNz",
        "outputId": "0e5e7b19-7ff7-4563-fe7d-4b2641987432"
      },
      "outputs": [
        {
          "output_type": "stream",
          "name": "stdout",
          "text": [
            "animales(1) ['Perro', 'Gate']\n",
            "animales(2) ['Perro', 'Gato']\n",
            "animales(3) ['Perro', 'Loro', 'Gato']\n",
            "animales(4) ['Perro', 'Loro', 'Gato', 'caballo']\n",
            "animales(5) ['Perro', 'Loro', 'Gato', 'caballo', 'tomate']\n",
            "animales(6) ['Perro', 'Loro', 'Gato', 'caballo', 'tomate', 'tomate']\n",
            "animales(7) ['Perro', 'Loro', 'Gato', 'caballo', 'tomate']\n",
            "animales(8) ['Perro', 'Loro', 'Gato', 'caballo']\n"
          ]
        }
      ],
      "source": [
        "# -*- coding: utf-8 -*-\n",
        "\"\"\"\n",
        "Created on Thu Feb 15 12:19:34 2024\n",
        "\n",
        "@author: 026_aalonpui\n",
        "\"\"\"\n",
        "\n",
        "# Initialize a list with two animal names\n",
        "animales = [\"Perro\", \"Gate\"]  # 'Gate' is a typo\n",
        "print(\"animales(1)\", animales)\n",
        "\n",
        "# Correct the typo from \"Gate\" to \"Gato\"\n",
        "animales[1] = \"Gato\"\n",
        "print(\"animales(2)\", animales)\n",
        "\n",
        "# Insert \"Loro\" at the second position\n",
        "animales.insert(1, \"Loro\")\n",
        "print(\"animales(3)\", animales)\n",
        "\n",
        "# Append \"caballo\" to the end of the list\n",
        "animales.append(\"caballo\")\n",
        "print(\"animales(4)\", animales)\n",
        "\n",
        "# Append \"tomate\" to the list (intentionally adding a non-animal)\n",
        "animales.append(\"tomate\")\n",
        "print(\"animales(5)\", animales)\n",
        "\n",
        "# Append another \"tomate\" to demonstrate handling duplicates\n",
        "animales.append(\"tomate\")\n",
        "print(\"animales(6)\", animales)\n",
        "\n",
        "# Remove the first occurrence of \"tomate\"\n",
        "animales.remove(\"tomate\")\n",
        "print(\"animales(7)\", animales)\n",
        "\n",
        "# Delete the fifth element of the list\n",
        "del animales[4]\n",
        "print(\"animales(8)\", animales)"
      ]
    },
    {
      "cell_type": "markdown",
      "source": [
        "## b_Ask_and_print_number"
      ],
      "metadata": {
        "id": "Ey_Z6ctq8__X"
      }
    },
    {
      "cell_type": "markdown",
      "source": [
        "This program asks the user to enter a number and then displays that number on the screen"
      ],
      "metadata": {
        "id": "d9bmPlay9huu"
      }
    },
    {
      "cell_type": "code",
      "source": [
        "# This program asks the user to enter a number and then displays that number on the screen\n",
        "\n",
        "# Ask the user to enter a number. input() gets the input as a string,\n",
        "# so we use int() to convert it to an integer\n",
        "number = int(input(\"Please enter a number: \"))\n",
        "\n",
        "# Display the entered number on the screen. The print() function is used to print data to the screen\n",
        "print(\"The number you entered is:\", number)"
      ],
      "metadata": {
        "colab": {
          "base_uri": "https://localhost:8080/"
        },
        "id": "QkfMTfI8-fmJ",
        "outputId": "c8fbde9c-8fde-424d-d691-f705bb270b65"
      },
      "execution_count": 2,
      "outputs": [
        {
          "output_type": "stream",
          "name": "stdout",
          "text": [
            "Please enter a number: 34\n",
            "The number you entered is: 34\n"
          ]
        }
      ]
    },
    {
      "cell_type": "markdown",
      "source": [
        "## c_Print_formats"
      ],
      "metadata": {
        "id": "S4I2vnSy9kRY"
      }
    },
    {
      "cell_type": "markdown",
      "source": [
        "This program demonstrates various ways to use the print function in Python. It shows how to print variables and text together using different formatting techniques, including simple concatenation, the format() method, f-strings, and the % operator."
      ],
      "metadata": {
        "id": "lIvle0fH9oi_"
      }
    },
    {
      "cell_type": "code",
      "source": [
        "# This program demonstrates various ways to use the print function in Python.\n",
        "# It shows how to print variables and text together using different formatting techniques,\n",
        "# including simple concatenation, the format() method, f-strings, and the % operator.\n",
        "\n",
        "name = \"Alice\"\n",
        "age = 30\n",
        "\n",
        "# Simple printing\n",
        "print(\"Name:\", name, \"Age:\", age)\n",
        "\n",
        "# Using string concatenation\n",
        "print(\"Name: \" + name + \" Age: \" + str(age))\n",
        "\n",
        "# Using string formatting with .format()\n",
        "print(\"Name: {} Age: {}\".format(name, age))\n",
        "\n",
        "# Using f-string (formatted string literals) - Recommended for Python 3.6+\n",
        "print(f\"Name: {name} Age: {age}\")\n",
        "\n",
        "# Using % operator (similar to printf in C)\n",
        "print(\"Name: %s Age: %d\" % (name, age))"
      ],
      "metadata": {
        "colab": {
          "base_uri": "https://localhost:8080/"
        },
        "id": "vY2uFUfM-kem",
        "outputId": "53ce3ce9-d188-48f4-e222-f04a1617bf49"
      },
      "execution_count": 3,
      "outputs": [
        {
          "output_type": "stream",
          "name": "stdout",
          "text": [
            "Name: Alice Age: 30\n",
            "Name: Alice Age: 30\n",
            "Name: Alice Age: 30\n",
            "Name: Alice Age: 30\n",
            "Name: Alice Age: 30\n"
          ]
        }
      ]
    },
    {
      "cell_type": "markdown",
      "source": [
        "## d_Add_list_of_numbers"
      ],
      "metadata": {
        "id": "k27k4bW09rmU"
      }
    },
    {
      "cell_type": "markdown",
      "source": [
        "This program asks the user to input 5 integers and stores them in a list. It calculates the total sum of these numbers and then prints the sum. Additionally, it prints out numbers from the list that are greater than 10."
      ],
      "metadata": {
        "id": "z46vHGOR9uO4"
      }
    },
    {
      "cell_type": "code",
      "source": [
        "# -*- coding: utf-8 -*-\n",
        "# This program asks the user to input 5 integers and stores them in a list. It calculates the total sum of these numbers\n",
        "# and then prints the sum. Additionally, it prints out numbers from the list that are greater than 10.\n",
        "\n",
        "# Create an empty list to store the numbers\n",
        "numbers = []\n",
        "\n",
        "# Ask the user to enter 5 integers\n",
        "for i in range(5):\n",
        "    number = int(input(\"Enter a number:\"))\n",
        "    numbers.append(number)\n",
        "\n",
        "# Calculate the total sum of the numbers\n",
        "total_sum = sum(numbers)\n",
        "print(f\"The total sum of the numbers is: {total_sum}\")\n",
        "\n",
        "# Print numbers greater than 10\n",
        "print(\"Numbers greater than 10:\")\n",
        "for number in numbers:\n",
        "    if number > 10:\n",
        "        print(number)\n"
      ],
      "metadata": {
        "colab": {
          "base_uri": "https://localhost:8080/"
        },
        "id": "bsrXRXj7-oai",
        "outputId": "aacbfd2a-2e50-4bca-cd27-69663f594fbe"
      },
      "execution_count": 4,
      "outputs": [
        {
          "output_type": "stream",
          "name": "stdout",
          "text": [
            "Enter a number:3\n",
            "Enter a number:5\n",
            "Enter a number:2\n",
            "Enter a number:98\n",
            "Enter a number:13\n",
            "The total sum of the numbers is: 121\n",
            "Numbers greater than 10:\n",
            "98\n",
            "13\n"
          ]
        }
      ]
    },
    {
      "cell_type": "markdown",
      "source": [
        "## e_Multiplication_table_FOR"
      ],
      "metadata": {
        "id": "qZ6vm_Oj9wLX"
      }
    },
    {
      "cell_type": "markdown",
      "source": [
        "Program to generate a multiplication table for numbers 1 through 10 This example demonstrates the use of nested for loops to calculate and print the multiplication results in a structured format."
      ],
      "metadata": {
        "id": "xTC5b9Rd9zBP"
      }
    },
    {
      "cell_type": "code",
      "source": [
        "# Program to generate a multiplication table for numbers 1 through 10\n",
        "# This example demonstrates the use of nested for loops to calculate and print\n",
        "# the multiplication results in a structured format.\n",
        "\n",
        "# Outer loop for each number in the table\n",
        "for i in range(1, 11):\n",
        "    # Inner loop for multiplying the current number by each number 1 through 10\n",
        "    for j in range(1, 11):\n",
        "        # Calculate the product\n",
        "        product = i * j\n",
        "        # Print the formatted multiplication fact\n",
        "        print(f\"{i} * {j} = {product}\")\n",
        "    # Print a new line after each row of the table to separate the numbers\n",
        "    print(\"-\" * 20)"
      ],
      "metadata": {
        "colab": {
          "base_uri": "https://localhost:8080/"
        },
        "id": "4BQUZrd_-z8D",
        "outputId": "be926d5b-9f2e-41fd-bc16-2a8cf59995ac"
      },
      "execution_count": 5,
      "outputs": [
        {
          "output_type": "stream",
          "name": "stdout",
          "text": [
            "1 * 1 = 1\n",
            "1 * 2 = 2\n",
            "1 * 3 = 3\n",
            "1 * 4 = 4\n",
            "1 * 5 = 5\n",
            "1 * 6 = 6\n",
            "1 * 7 = 7\n",
            "1 * 8 = 8\n",
            "1 * 9 = 9\n",
            "1 * 10 = 10\n",
            "--------------------\n",
            "2 * 1 = 2\n",
            "2 * 2 = 4\n",
            "2 * 3 = 6\n",
            "2 * 4 = 8\n",
            "2 * 5 = 10\n",
            "2 * 6 = 12\n",
            "2 * 7 = 14\n",
            "2 * 8 = 16\n",
            "2 * 9 = 18\n",
            "2 * 10 = 20\n",
            "--------------------\n",
            "3 * 1 = 3\n",
            "3 * 2 = 6\n",
            "3 * 3 = 9\n",
            "3 * 4 = 12\n",
            "3 * 5 = 15\n",
            "3 * 6 = 18\n",
            "3 * 7 = 21\n",
            "3 * 8 = 24\n",
            "3 * 9 = 27\n",
            "3 * 10 = 30\n",
            "--------------------\n",
            "4 * 1 = 4\n",
            "4 * 2 = 8\n",
            "4 * 3 = 12\n",
            "4 * 4 = 16\n",
            "4 * 5 = 20\n",
            "4 * 6 = 24\n",
            "4 * 7 = 28\n",
            "4 * 8 = 32\n",
            "4 * 9 = 36\n",
            "4 * 10 = 40\n",
            "--------------------\n",
            "5 * 1 = 5\n",
            "5 * 2 = 10\n",
            "5 * 3 = 15\n",
            "5 * 4 = 20\n",
            "5 * 5 = 25\n",
            "5 * 6 = 30\n",
            "5 * 7 = 35\n",
            "5 * 8 = 40\n",
            "5 * 9 = 45\n",
            "5 * 10 = 50\n",
            "--------------------\n",
            "6 * 1 = 6\n",
            "6 * 2 = 12\n",
            "6 * 3 = 18\n",
            "6 * 4 = 24\n",
            "6 * 5 = 30\n",
            "6 * 6 = 36\n",
            "6 * 7 = 42\n",
            "6 * 8 = 48\n",
            "6 * 9 = 54\n",
            "6 * 10 = 60\n",
            "--------------------\n",
            "7 * 1 = 7\n",
            "7 * 2 = 14\n",
            "7 * 3 = 21\n",
            "7 * 4 = 28\n",
            "7 * 5 = 35\n",
            "7 * 6 = 42\n",
            "7 * 7 = 49\n",
            "7 * 8 = 56\n",
            "7 * 9 = 63\n",
            "7 * 10 = 70\n",
            "--------------------\n",
            "8 * 1 = 8\n",
            "8 * 2 = 16\n",
            "8 * 3 = 24\n",
            "8 * 4 = 32\n",
            "8 * 5 = 40\n",
            "8 * 6 = 48\n",
            "8 * 7 = 56\n",
            "8 * 8 = 64\n",
            "8 * 9 = 72\n",
            "8 * 10 = 80\n",
            "--------------------\n",
            "9 * 1 = 9\n",
            "9 * 2 = 18\n",
            "9 * 3 = 27\n",
            "9 * 4 = 36\n",
            "9 * 5 = 45\n",
            "9 * 6 = 54\n",
            "9 * 7 = 63\n",
            "9 * 8 = 72\n",
            "9 * 9 = 81\n",
            "9 * 10 = 90\n",
            "--------------------\n",
            "10 * 1 = 10\n",
            "10 * 2 = 20\n",
            "10 * 3 = 30\n",
            "10 * 4 = 40\n",
            "10 * 5 = 50\n",
            "10 * 6 = 60\n",
            "10 * 7 = 70\n",
            "10 * 8 = 80\n",
            "10 * 9 = 90\n",
            "10 * 10 = 100\n",
            "--------------------\n"
          ]
        }
      ]
    },
    {
      "cell_type": "markdown",
      "source": [
        "## f_Lists_example"
      ],
      "metadata": {
        "id": "2p2SGzqA91P3"
      }
    },
    {
      "cell_type": "markdown",
      "source": [
        "This program showcases common list operations in Python, illustrating how to manipulate lists. Operations demonstrated include appending elements, inserting elements at specific positions, sorting the list, removing elements by value, popping elements by index, reversing the list, counting occurrences of an element, and finding an element's index."
      ],
      "metadata": {
        "id": "yfQA6Umt93KZ"
      }
    },
    {
      "cell_type": "code",
      "source": [
        "# This program showcases common list operations in Python, illustrating how to manipulate lists.\n",
        "# Operations demonstrated include appending elements, inserting elements at specific positions,\n",
        "# sorting the list, removing elements by value, popping elements by index, reversing the list,\n",
        "# counting occurrences of an element, and finding an element's index.\n",
        "\n",
        "\n",
        "# Define a list of strings\n",
        "fruits = [\"apple\", \"banana\", \"apple\", \"cherry\"]\n",
        "\n",
        "# Append an item to the list\n",
        "fruits.append(\"orange\")\n",
        "print (\"a) \",fruits)\n",
        "\n",
        "# Insert an item at a specific index\n",
        "fruits.insert(1, \"blueberry\")  # Insert \"blueberry\" at index 1\n",
        "print (\"b) \",fruits)\n",
        "\n",
        "# Sort the list in alphabetical order\n",
        "fruits.sort()\n",
        "print (\"c) \",fruits)\n",
        "\n",
        "# Removing an element by value\n",
        "fruits.remove(\"banana\")\n",
        "print (\"d) \",fruits)\n",
        "\n",
        "# Pop an element by index (remove and return the last element if no index is specified)\n",
        "last_fruit = fruits.pop()\n",
        "print (\"e) \",fruits)\n",
        "\n",
        "# Reverse the list\n",
        "fruits.reverse()\n",
        "print (\"f) \",fruits)\n",
        "\n",
        "# Get the number of occurrences of an element\n",
        "count_apple = fruits.count(\"apple\")\n",
        "\n",
        "# Find the index of an element\n",
        "index_of_cherry = fruits.index(\"cherry\")\n",
        "\n",
        "print(\"Modified list:\", fruits)\n",
        "print(\"Last fruit removed:\", last_fruit)\n",
        "print(\"Count of 'apple':\", count_apple)\n",
        "print(\"Index of 'cherry':\", index_of_cherry)"
      ],
      "metadata": {
        "colab": {
          "base_uri": "https://localhost:8080/"
        },
        "id": "xG-SWStiKwR9",
        "outputId": "e57d7260-7e48-4a49-d7ea-974300a0cf1d"
      },
      "execution_count": 6,
      "outputs": [
        {
          "output_type": "stream",
          "name": "stdout",
          "text": [
            "a)  ['apple', 'banana', 'apple', 'cherry', 'orange']\n",
            "b)  ['apple', 'blueberry', 'banana', 'apple', 'cherry', 'orange']\n",
            "c)  ['apple', 'apple', 'banana', 'blueberry', 'cherry', 'orange']\n",
            "d)  ['apple', 'apple', 'blueberry', 'cherry', 'orange']\n",
            "e)  ['apple', 'apple', 'blueberry', 'cherry']\n",
            "f)  ['cherry', 'blueberry', 'apple', 'apple']\n",
            "Modified list: ['cherry', 'blueberry', 'apple', 'apple']\n",
            "Last fruit removed: orange\n",
            "Count of 'apple': 2\n",
            "Index of 'cherry': 0\n"
          ]
        }
      ]
    },
    {
      "cell_type": "markdown",
      "source": [
        "## g_average_FUNCTION"
      ],
      "metadata": {
        "id": "TD04rXLi95PA"
      }
    },
    {
      "cell_type": "markdown",
      "source": [
        "This program calculates the average temperature from a list of temperatures. It demonstrates the use of functions, lists, and basic arithmetic operations in Python."
      ],
      "metadata": {
        "id": "BwdEQE7D97wo"
      }
    },
    {
      "cell_type": "code",
      "source": [
        "# This program calculates the average temperature from a list of temperatures.\n",
        "# It demonstrates the use of functions, lists, and basic arithmetic operations in Python.\n",
        "\n",
        "def average_temperature(temp):\n",
        "    \"\"\"\n",
        "    Calculate the average of the given list of temperatures.\n",
        "\n",
        "    Parameters:\n",
        "    temperatures (list): A list of temperatures (float or int values).\n",
        "\n",
        "    Returns:\n",
        "    float: The average temperature.\n",
        "    \"\"\"\n",
        "    # Calculate the sum of all temperatures and divide by the length of the list\n",
        "    return sum(temp) / len(temp)\n",
        "\n",
        "# List of temperatures\n",
        "temperatures = [22.0, 18.5, 25.3, 30.0, 16.2]\n",
        "\n",
        "# Calculate the average temperature\n",
        "avg_temp = average_temperature(temperatures)\n",
        "\n",
        "# Print the average temperature\n",
        "print (\"Temperatures: \", temperatures)\n",
        "print(f\"The average temperature is: {avg_temp:.2f} degrees\")"
      ],
      "metadata": {
        "colab": {
          "base_uri": "https://localhost:8080/"
        },
        "id": "He-BoGwcKzm1",
        "outputId": "3480c2de-d4b7-4d7b-da75-38db62c8d712"
      },
      "execution_count": 7,
      "outputs": [
        {
          "output_type": "stream",
          "name": "stdout",
          "text": [
            "Temperatures:  [22.0, 18.5, 25.3, 30.0, 16.2]\n",
            "The average temperature is: 22.40 degrees\n"
          ]
        }
      ]
    },
    {
      "cell_type": "markdown",
      "source": [
        "## h_ATM_example_IF_WHILE"
      ],
      "metadata": {
        "id": "sev2aVoZ999B"
      }
    },
    {
      "cell_type": "markdown",
      "source": [
        "This program simulates a simple ATM system in Python. Users start with a balance of $1000 and can withdraw money in multiples of $100. The program checks if the withdrawal amount is valid (a multiple of $100 and does not exceed the current balance). If the user attempts to withdraw more than their balance or an invalid amount, an error message is displayed. The loop continues until the user exits by entering '0'. This demonstrates basic use of control flow with while, if, elif, and else statements in Python."
      ],
      "metadata": {
        "id": "1WVX-6fh-A14"
      }
    },
    {
      "cell_type": "code",
      "source": [
        "# Simple ATM Simulator\n",
        "# This program simulates a simple ATM system in Python. Users start with a balance of $1000\n",
        "# and can withdraw money in multiples of $100. The program checks if the withdrawal amount\n",
        "# is valid (a multiple of $100 and does not exceed the current balance). If the user attempts\n",
        "# to withdraw more than their balance or an invalid amount, an error message is displayed.\n",
        "# The loop continues until the user exits by entering '0'. This demonstrates basic use of\n",
        "# control flow with while, if, elif, and else statements in Python.\n",
        "\n",
        "# Initial balance\n",
        "balance = 1000\n",
        "\n",
        "# Start of the program\n",
        "print(\"Welcome to the ATM simulator. Your current balance is $1000\")\n",
        "print(\"Enter the amount to withdraw in multiples of $100, or '0' to exit.\")\n",
        "\n",
        "# Main loop\n",
        "while True:\n",
        "    # Ask the user for the amount to withdraw\n",
        "    amount = int(input(\"Amount to withdraw: \"))\n",
        "\n",
        "    # Check for exit condition\n",
        "    if amount == 0:\n",
        "        print(\"Exiting. Thank you for using the ATM simulator.\")\n",
        "        break\n",
        "    # Validate withdrawal amount\n",
        "    elif amount % 100 == 0 and amount <= balance:\n",
        "        balance -= amount  # Deduct the amount from balance\n",
        "        print(f\"${amount} withdrawn. New balance: ${balance}\")\n",
        "    else:\n",
        "        # Handle errors: amount not in multiples of 100 or exceeds balance\n",
        "        print(\"Invalid amount. Please enter a multiple of $100 not exceeding your balance.\")"
      ],
      "metadata": {
        "colab": {
          "base_uri": "https://localhost:8080/"
        },
        "id": "xfHUBDVbK3G0",
        "outputId": "da679abc-a754-432a-899a-2f66a2f16a8c"
      },
      "execution_count": 8,
      "outputs": [
        {
          "output_type": "stream",
          "name": "stdout",
          "text": [
            "Welcome to the ATM simulator. Your current balance is $1000\n",
            "Enter the amount to withdraw in multiples of $100, or '0' to exit.\n",
            "Amount to withdraw: 345\n",
            "Invalid amount. Please enter a multiple of $100 not exceeding your balance.\n",
            "Amount to withdraw: 234\n",
            "Invalid amount. Please enter a multiple of $100 not exceeding your balance.\n",
            "Amount to withdraw: 0\n",
            "Exiting. Thank you for using the ATM simulator.\n"
          ]
        }
      ]
    },
    {
      "cell_type": "markdown",
      "source": [
        "## i_Temp_conversion_FUNCTIONS"
      ],
      "metadata": {
        "id": "kDG9pHYE-CvJ"
      }
    },
    {
      "cell_type": "markdown",
      "source": [
        "This program is designed to demonstrate the application of functions in Python for temperature conversion. It allows the user to input a temperature and choose whether they want to convert it from Celsius to Fahrenheit or from Fahrenheit to Celsius. The program defines two functions, one for each conversion direction, and uses conditional logic to execute the appropriate conversion based on user input. It showcases fundamental programming concepts such as function definition, arithmetic operations, conditional statements, and user input handling."
      ],
      "metadata": {
        "id": "JkBtCRpW-FRo"
      }
    },
    {
      "cell_type": "code",
      "source": [
        "# This program is designed to demonstrate the application of functions in Python for temperature conversion.\n",
        "# It allows the user to input a temperature and choose whether they want to convert it from Celsius to Fahrenheit\n",
        "# or from Fahrenheit to Celsius. The program defines two functions, one for each conversion direction, and uses\n",
        "# conditional logic to execute the appropriate conversion based on user input. It showcases fundamental programming\n",
        "# concepts such as function definition, arithmetic operations, conditional statements, and user input handling.\n",
        "\n",
        "def convert_to_celsius(fahrenheit):\n",
        "    #Converts Fahrenheit to Celsius.\n",
        "    return (fahrenheit - 32) * 5/9\n",
        "\n",
        "def convert_to_fahrenheit(celsius):\n",
        "    #Converts Celsius to Fahrenheit.\n",
        "    return (celsius * 9/5) + 32\n",
        "\n",
        "# Main program\n",
        "temp = float(input(\"Enter the temperature: \"))\n",
        "unit = input(\"Convert to (F)ahrenheit or (C)elsius? \")\n",
        "\n",
        "if unit.upper() == 'F':\n",
        "    print(f\"{temp}C is {convert_to_fahrenheit(temp)}F\")\n",
        "elif unit.upper() == 'C':\n",
        "    print(f\"{temp}F is {convert_to_celsius(temp)}C\")\n",
        "else:\n",
        "    print(\"Invalid unit.\")"
      ],
      "metadata": {
        "colab": {
          "base_uri": "https://localhost:8080/"
        },
        "id": "IdVUNTWmLDIu",
        "outputId": "6c409211-7ec1-44d7-cd96-8563acd8c41f"
      },
      "execution_count": 9,
      "outputs": [
        {
          "output_type": "stream",
          "name": "stdout",
          "text": [
            "Enter the temperature: 34\n",
            "Convert to (F)ahrenheit or (C)elsius? F\n",
            "34.0C is 93.2F\n"
          ]
        }
      ]
    },
    {
      "cell_type": "markdown",
      "source": [
        "## j_Lista_de_la_compra"
      ],
      "metadata": {
        "id": "p2kUdAiG-Hjz"
      }
    },
    {
      "cell_type": "markdown",
      "source": [
        "This program allows the user to create and manage a shopping list interactively. The user can add items to the shopping list by entering the names of the items one by one. To finish and see all the items added to the list, the user must enter '0'. The program then displays the complete shopping list before ending its execution. It is a simple but practical tool for keeping track of pending purchases."
      ],
      "metadata": {
        "id": "gQ1JtMbe-J-6"
      }
    },
    {
      "cell_type": "code",
      "source": [
        "\"\"\"\n",
        "Programa de Lista de Compras Simplificado\n",
        "\n",
        "Título: Lista de Compras Interactiva\n",
        "\n",
        "Descripción:\n",
        "Este programa permite al usuario crear y gestionar una lista de compras de manera interactiva.\n",
        "El usuario puede añadir artículos a la lista de compras ingresando los nombres de los artículos uno por uno.\n",
        "Para finalizar y ver todos los artículos añadidos a la lista, el usuario debe ingresar '0'.\n",
        "El programa muestra entonces la lista completa de compras antes de terminar su ejecución.\n",
        "Es una herramienta sencilla pero práctica para llevar un registro de compras pendientes.\n",
        "\"\"\"\n",
        "\n",
        "# Instrucción para el usuario\n",
        "print(\"Bienvenido al programa de la lista de compras.\")\n",
        "print(\"Por favor, introduce los artículos que deseas añadir a tu lista.\")\n",
        "print(\"Cuando hayas terminado, escribe '0' para finalizar y mostrar la lista completa.\\n\")\n",
        "\n",
        "# Inicialización de la lista de compras\n",
        "lista_compras = []\n",
        "\n",
        "# Bucle para añadir artículos a la lista\n",
        "while True:\n",
        "    # Solicita al usuario el artículo a añadir\n",
        "    articulo = input(\"Introduce el nombre del artículo a agregar o '0' para finalizar: \")\n",
        "    # Verifica si el usuario desea terminar\n",
        "    if articulo == '0':\n",
        "        break  # Sale del bucle\n",
        "    # Añade el artículo a la lista de compras\n",
        "    lista_compras.append(articulo)\n",
        "\n",
        "# Verifica si la lista está vacía antes de mostrarla\n",
        "if lista_compras:\n",
        "    # Muestra todos los artículos de la lista\n",
        "    print()\n",
        "    print(\"Lista de compras:\")\n",
        "    for articulo in lista_compras:\n",
        "        print(f\"- {articulo}\")\n",
        "else:\n",
        "    # Informa al usuario que la lista está vacía\n",
        "    print(\"No se añadieron artículos a la lista.\")"
      ],
      "metadata": {
        "colab": {
          "base_uri": "https://localhost:8080/"
        },
        "id": "bWZ9qk8RLJRt",
        "outputId": "82b88121-a081-4ef3-ec52-c5fb6786b00c"
      },
      "execution_count": 10,
      "outputs": [
        {
          "output_type": "stream",
          "name": "stdout",
          "text": [
            "Bienvenido al programa de la lista de compras.\n",
            "Por favor, introduce los artículos que deseas añadir a tu lista.\n",
            "Cuando hayas terminado, escribe '0' para finalizar y mostrar la lista completa.\n",
            "\n",
            "Introduce el nombre del artículo a agregar o '0' para finalizar: Tomates\n",
            "Introduce el nombre del artículo a agregar o '0' para finalizar: Lenguado\n",
            "Introduce el nombre del artículo a agregar o '0' para finalizar: Pan\n",
            "Introduce el nombre del artículo a agregar o '0' para finalizar: 0\n",
            "\n",
            "Lista de compras:\n",
            "- Tomates\n",
            "- Lenguado\n",
            "- Pan\n"
          ]
        }
      ]
    },
    {
      "cell_type": "markdown",
      "source": [
        "## k_calculadora_simple"
      ],
      "metadata": {
        "id": "ihuE7m6Z-Mrp"
      }
    },
    {
      "cell_type": "markdown",
      "source": [
        "This program simulates a calculator that can perform basic arithmetic operations in sequence. The user enters a number, selects an arithmetic operation (+, -, /, x), and enters another number. The calculator executes the operation and waits for the next user input. This process is repeated until the user enters '=' to display the result and end the program."
      ],
      "metadata": {
        "id": "XWBJ3eTU-PmC"
      }
    },
    {
      "cell_type": "code",
      "source": [
        "# Programa Calculadora Secuencial Interactiva\n",
        "\n",
        "# Este programa simula una calculadora que puede realizar operaciones aritméticas básicas de manera secuencial.\n",
        "# El usuario introduce un número, selecciona una operación aritmética (+, -, /, x), e introduce otro número.\n",
        "# La calculadora ejecuta la operación y espera la siguiente entrada del usuario.\n",
        "# Este proceso se repite hasta que el usuario introduce '=' para mostrar el resultado y terminar el programa.\n",
        "\n",
        "# Solicita al usuario el primer número\n",
        "print(\"Calculadora Secuencial Interactiva\")\n",
        "resultado = float(input(\"Introduce el primer número: \"))\n",
        "\n",
        "# Inicia un bucle para solicitar operaciones y números adicionales\n",
        "while True:\n",
        "    # Solicita al usuario la operación a realizar\n",
        "    operacion = input(\"Introduce la operación (+, -, /, x, =): \")\n",
        "\n",
        "    # Verifica si el usuario desea terminar y mostrar el resultado\n",
        "    if operacion == \"=\":\n",
        "        print(\"El resultado es:\", resultado)\n",
        "        break  # Termina el bucle y finaliza el programa\n",
        "\n",
        "    # Solicita al usuario el siguiente número\n",
        "    numero = float(input(\"Introduce el siguiente número: \"))\n",
        "\n",
        "    # Utiliza match para determinar la operación a realizar\n",
        "    match operacion:\n",
        "        case '+':\n",
        "            resultado += numero\n",
        "        case '-':\n",
        "            resultado -= numero\n",
        "        case '/':\n",
        "            if numero != 0:  # Evita la división por cero\n",
        "                resultado /= numero\n",
        "            else:\n",
        "                print(\"Error: División por cero. Por favor, intenta nuevamente.\")\n",
        "                continue  # Permite al usuario corregir su entrada sin terminar el programa\n",
        "        case 'x':\n",
        "            resultado *= numero\n",
        "        case _:  # Captura cualquier entrada que no sea una operación válida\n",
        "            print(\"Operación no válida. Por favor, intenta nuevamente.\")\n",
        "\n",
        "# Nota: Este programa no maneja errores de entrada no numérica. Se asume que el usuario introduce números válidos."
      ],
      "metadata": {
        "colab": {
          "base_uri": "https://localhost:8080/"
        },
        "id": "gW73ksi-LR1V",
        "outputId": "6c83316f-99e5-4be1-9cfc-264621c78269"
      },
      "execution_count": 12,
      "outputs": [
        {
          "output_type": "stream",
          "name": "stdout",
          "text": [
            "Calculadora Secuencial Interactiva\n",
            "Introduce el primer número: 34\n",
            "Introduce la operación (+, -, /, x, =): -\n",
            "Introduce el siguiente número: 12\n",
            "Introduce la operación (+, -, /, x, =): =\n",
            "El resultado es: 22.0\n"
          ]
        }
      ]
    }
  ]
}